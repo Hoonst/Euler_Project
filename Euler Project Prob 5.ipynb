{
 "cells": [
  {
   "cell_type": "markdown",
   "metadata": {},
   "source": [
    "1과 10 사이의 어떠 수로도 나누어 떨어지는 가장 작은 수는 2520\n",
    "\n",
    "1~20 사이의 어떤 수로도 나누어 떨어지는 가장 작은 수는 얼마?"
   ]
  },
  {
   "cell_type": "code",
   "execution_count": 1,
   "metadata": {},
   "outputs": [],
   "source": [
    "target = 1\n",
    "denom = 1\n",
    "while True:\n",
    "    if target % denom == 0:\n",
    "        denom += 1\n",
    "        \n",
    "    elif target % denom != 0:\n",
    "        target += 1\n",
    "        denom = 1\n",
    "        \n",
    "    if denom == 21:\n",
    "        break"
   ]
  },
  {
   "cell_type": "code",
   "execution_count": 2,
   "metadata": {},
   "outputs": [
    {
     "data": {
      "text/plain": [
       "232792560"
      ]
     },
     "execution_count": 2,
     "metadata": {},
     "output_type": "execute_result"
    }
   ],
   "source": [
    "target"
   ]
  },
  {
   "cell_type": "code",
   "execution_count": null,
   "metadata": {},
   "outputs": [],
   "source": []
  }
 ],
 "metadata": {
  "kernelspec": {
   "display_name": "Python 3",
   "language": "python",
   "name": "python3"
  },
  "language_info": {
   "codemirror_mode": {
    "name": "ipython",
    "version": 3
   },
   "file_extension": ".py",
   "mimetype": "text/x-python",
   "name": "python",
   "nbconvert_exporter": "python",
   "pygments_lexer": "ipython3",
   "version": "3.6.4"
  }
 },
 "nbformat": 4,
 "nbformat_minor": 2
}
