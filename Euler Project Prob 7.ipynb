{
 "cells": [
  {
   "cell_type": "markdown",
   "metadata": {},
   "source": [
    "소수를 구해주세요...\n",
    "1과 자신만이 나눌 수 있는 수\n",
    "10001번째 소수를 구하라"
   ]
  },
  {
   "cell_type": "code",
   "execution_count": 1,
   "metadata": {},
   "outputs": [],
   "source": [
    "def sosu(n):\n",
    "    if n == 2:\n",
    "        return \"소수\"\n",
    "        exit()\n",
    "        \n",
    "    elif n % 2 == 0:\n",
    "        return \"not 소수\"\n",
    "    for i in range(2, n):\n",
    "        \n",
    "        if n % i == 0:\n",
    "            return \"not 소수\"\n",
    "            break\n",
    "        elif i == n-1:\n",
    "            return \"소수\"\n",
    "            break"
   ]
  },
  {
   "cell_type": "code",
   "execution_count": 2,
   "metadata": {},
   "outputs": [
    {
     "data": {
      "text/plain": [
       "'not 소수'"
      ]
     },
     "execution_count": 2,
     "metadata": {},
     "output_type": "execute_result"
    }
   ],
   "source": [
    "sosu(996)"
   ]
  },
  {
   "cell_type": "code",
   "execution_count": 3,
   "metadata": {},
   "outputs": [],
   "source": [
    "i = 2\n",
    "j = 0\n",
    "while True:\n",
    "    if sosu(i) == \"소수\":\n",
    "        j += 1\n",
    "        i += 1\n",
    "    elif sosu(i) != \"소수\":\n",
    "        i += 1\n",
    "    if j == 10001:\n",
    "        break"
   ]
  },
  {
   "cell_type": "code",
   "execution_count": 5,
   "metadata": {},
   "outputs": [
    {
     "data": {
      "text/plain": [
       "10001"
      ]
     },
     "execution_count": 5,
     "metadata": {},
     "output_type": "execute_result"
    }
   ],
   "source": [
    "j"
   ]
  },
  {
   "cell_type": "code",
   "execution_count": 6,
   "metadata": {},
   "outputs": [
    {
     "data": {
      "text/plain": [
       "104744"
      ]
     },
     "execution_count": 6,
     "metadata": {},
     "output_type": "execute_result"
    }
   ],
   "source": [
    "i"
   ]
  },
  {
   "cell_type": "code",
   "execution_count": null,
   "metadata": {},
   "outputs": [],
   "source": []
  }
 ],
 "metadata": {
  "kernelspec": {
   "display_name": "Python 3",
   "language": "python",
   "name": "python3"
  },
  "language_info": {
   "codemirror_mode": {
    "name": "ipython",
    "version": 3
   },
   "file_extension": ".py",
   "mimetype": "text/x-python",
   "name": "python",
   "nbconvert_exporter": "python",
   "pygments_lexer": "ipython3",
   "version": "3.6.4"
  }
 },
 "nbformat": 4,
 "nbformat_minor": 2
}
