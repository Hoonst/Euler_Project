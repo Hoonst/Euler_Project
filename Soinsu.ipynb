{
 "cells": [
  {
   "cell_type": "code",
   "execution_count": 14,
   "metadata": {},
   "outputs": [],
   "source": [
    "def soinsu(num):\n",
    "    sosu_lista = sosu_list(num)                 #num의 소수 리스트\n",
    "    num_variable = num                          #num의 더미변수\n",
    "    i = 0                                  \n",
    "    soinsu_list = []                            #soinsu들을 담을 곳\n",
    "    while True:\n",
    "        if num_variable % sosu_lista[i] == 0:\n",
    "            quo, remain = divmod(num_variable, sosu_lista[i])\n",
    "            num_variable = quo\n",
    "            soinsu_list += [sosu_lista[i]]\n",
    "        elif num_variable % sosu_lista[i] != 0:\n",
    "            i += 1\n",
    "        if sosu(num_variable) == \"소수\" or i == len(sosu_lista):\n",
    "            soinsu_list += [num_variable]\n",
    "            break\n",
    "            \n",
    "    return max(soinsu_list) "
   ]
  },
  {
   "cell_type": "code",
   "execution_count": 13,
   "metadata": {},
   "outputs": [],
   "source": [
    "def sosu(n):        \n",
    "    if n == 2:\n",
    "        return \"소수\"\n",
    "        exit()\n",
    "    elif n % 2 == 0:\n",
    "        return \"not 소수\"\n",
    "    for i in range(2, n):\n",
    "        \n",
    "        if n % i == 0:\n",
    "            return \"not 소수\"\n",
    "            break\n",
    "        elif i == n-1:\n",
    "            return \"소수\"\n",
    "            break"
   ]
  },
  {
   "cell_type": "code",
   "execution_count": 12,
   "metadata": {},
   "outputs": [],
   "source": [
    "def sosu_list(num):\n",
    "    \n",
    "    sosu_list = [2]\n",
    "    for i in range(2, num):\n",
    "        if i % 2 == 0:\n",
    "            continue\n",
    "        if sosu(i) == \"소수\":\n",
    "            sosu_list += [i]\n",
    "    \n",
    "    return sosu_list"
   ]
  },
  {
   "cell_type": "code",
   "execution_count": null,
   "metadata": {},
   "outputs": [],
   "source": [
    "sosu_list(2000001)"
   ]
  },
  {
   "cell_type": "code",
   "execution_count": null,
   "metadata": {},
   "outputs": [],
   "source": []
  }
 ],
 "metadata": {
  "kernelspec": {
   "display_name": "Python 3",
   "language": "python",
   "name": "python3"
  },
  "language_info": {
   "codemirror_mode": {
    "name": "ipython",
    "version": 3
   },
   "file_extension": ".py",
   "mimetype": "text/x-python",
   "name": "python",
   "nbconvert_exporter": "python",
   "pygments_lexer": "ipython3",
   "version": "3.6.4"
  }
 },
 "nbformat": 4,
 "nbformat_minor": 2
}
