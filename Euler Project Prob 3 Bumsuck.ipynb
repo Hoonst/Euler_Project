{
 "cells": [
  {
   "cell_type": "code",
   "execution_count": 1,
   "metadata": {},
   "outputs": [
    {
     "name": "stdout",
     "output_type": "stream",
     "text": [
      "6857\n"
     ]
    }
   ],
   "source": [
    "num = 600851475143\n",
    "\n",
    "def func(n,d):\n",
    "\n",
    "    if n == d:\n",
    "        return d\n",
    "\n",
    "    if n%d == 0:\n",
    "        while n%d != 0 :\n",
    "            d= d*d\n",
    "        return func(n/d, 2)\n",
    "\n",
    "    else:\n",
    "        while n%d !=0:\n",
    "            d +=1\n",
    "        return func(n, d)\n",
    "\n",
    "\n",
    "\n",
    "print(func(num,2))"
   ]
  },
  {
   "cell_type": "code",
   "execution_count": null,
   "metadata": {},
   "outputs": [],
   "source": []
  }
 ],
 "metadata": {
  "kernelspec": {
   "display_name": "Python 3",
   "language": "python",
   "name": "python3"
  },
  "language_info": {
   "codemirror_mode": {
    "name": "ipython",
    "version": 3
   },
   "file_extension": ".py",
   "mimetype": "text/x-python",
   "name": "python",
   "nbconvert_exporter": "python",
   "pygments_lexer": "ipython3",
   "version": "3.6.4"
  }
 },
 "nbformat": 4,
 "nbformat_minor": 2
}
